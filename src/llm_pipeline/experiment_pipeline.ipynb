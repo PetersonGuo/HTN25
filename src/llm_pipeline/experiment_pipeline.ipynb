{
  "cells": [
    {
      "cell_type": "markdown",
      "metadata": {},
      "source": [
        "# Pipeline Experimentation: OpenAI vs Cerebras\n",
        "\n",
        "This notebook experiments with both executors:\n",
        "- **Cerebras**: Text-only processing\n",
        "- **OpenAI**: Text and image processing\n",
        "\n",
        "## Setup\n",
        "\n",
        "Make sure you have the required environment variables set:\n",
        "```bash\n",
        "CEREBRAS_API_KEY=\"your_cerebras_key\"\n",
        "CEREBRAS_API_URL=https://api.cerebras.ai/v1/completions\n",
        "OPENAI_API_KEY=\"your_openai_key\"\n",
        "```"
      ]
    },
    {
      "cell_type": "code",
      "execution_count": 2,
      "metadata": {},
      "outputs": [
        {
          "name": "stdout",
          "output_type": "stream",
          "text": [
            "API Key Status:\n",
            "CEREBRAS_API_KEY: ✅ Set\n",
            "OPENAI_API_KEY: ✅ Set\n"
          ]
        }
      ],
      "source": [
        "import os\n",
        "import json\n",
        "import base64\n",
        "from llm_pipeline.pipeline import Pipeline\n",
        "from llm_pipeline.registry.template_registry import TemplateRegistry\n",
        "from llm_pipeline.config.models import PipelineConfig, ExecutorType\n",
        "from llm_pipeline.agents.default_agent import DefaultAgent\n",
        "\n",
        "# Check API keys\n",
        "print(\"API Key Status:\")\n",
        "print(f\"CEREBRAS_API_KEY: {'✅ Set' if os.getenv('CEREBRAS_API_KEY') else '❌ Missing'}\")\n",
        "print(f\"OPENAI_API_KEY: {'✅ Set' if os.getenv('OPENAI_API_KEY') else '❌ Missing'}\")"
      ]
    },
    {
      "cell_type": "markdown",
      "metadata": {},
      "source": [
        "## Initialize Pipeline Components\n"
      ]
    },
    {
      "cell_type": "code",
      "execution_count": 4,
      "metadata": {},
      "outputs": [
        {
          "name": "stdout",
          "output_type": "stream",
          "text": [
            "Pipeline components initialized successfully!\n"
          ]
        }
      ],
      "source": [
        "# Set up registry and agent\n",
        "registry = TemplateRegistry(base_dir=\"templates\")\n",
        "agent = DefaultAgent()\n",
        "pipeline = Pipeline(registry, agent)\n",
        "\n",
        "# Common output schema for consistency\n",
        "output_schema = {\n",
        "    \"type\": \"object\",\n",
        "    \"properties\": {\n",
        "        \"answer\": {\"type\": \"string\"},\n",
        "        \"confidence\": {\"type\": \"number\", \"minimum\": 0, \"maximum\": 1},\n",
        "        \"reasoning\": {\"type\": \"string\"}\n",
        "    },\n",
        "    \"required\": [\"answer\", \"confidence\"],\n",
        "    \"additionalProperties\": False\n",
        "}\n",
        "\n",
        "print(\"Pipeline components initialized successfully!\")\n"
      ]
    },
    {
      "cell_type": "markdown",
      "metadata": {},
      "source": [
        "## Test Data Setup"
      ]
    },
    {
      "cell_type": "code",
      "execution_count": 6,
      "metadata": {},
      "outputs": [
        {
          "name": "stderr",
          "output_type": "stream",
          "text": [
            "/Users/joshz/repos/HTN25/.venv/lib/python3.9/site-packages/urllib3/__init__.py:35: NotOpenSSLWarning: urllib3 v2 only supports OpenSSL 1.1.1+, currently the 'ssl' module is compiled with 'LibreSSL 2.8.3'. See: https://github.com/urllib3/urllib3/issues/3020\n",
            "  warnings.warn(\n"
          ]
        },
        {
          "name": "stdout",
          "output_type": "stream",
          "text": [
            "Test data prepared:\n",
            "- Text input: 108 chars of context\n",
            "- Image input: 1 image(s), 56604 chars base64\n"
          ]
        }
      ],
      "source": [
        "from base64 import b64encode\n",
        "import requests\n",
        "\n",
        "# Test inputs\n",
        "text_input = {\n",
        "    \"context\": \"Photosynthesis is the process by which green plants convert sunlight into chemical energy using chlorophyll.\",\n",
        "    \"question\": \"What is photosynthesis and what molecule is essential for this process?\",\n",
        "    \"template_name\": \"v1\"\n",
        "}\n",
        "\n",
        "# Create a simple test image (1x1 red pixel in base64)\n",
        "image_url = \"https://www.shutterstock.com/image-photo/red-apple-cut-half-water-600nw-2532255795.jpg\"\n",
        "test_image_b64 = b64encode(requests.get(image_url).content).decode(\"utf-8\")\n",
        "\n",
        "image_input = {\n",
        "    \"context\": \"You are analyzing an image to provide insights about its content.\",\n",
        "    \"question\": \"What do you see in this image? Describe any colors, shapes, or patterns.\",\n",
        "    \"template_name\": \"v1\",\n",
        "    \"images\": [test_image_b64]\n",
        "}\n",
        "\n",
        "print(\"Test data prepared:\")\n",
        "print(f\"- Text input: {len(text_input['context'])} chars of context\")\n",
        "print(f\"- Image input: {len(image_input['images'])} image(s), {len(test_image_b64)} chars base64\")\n"
      ]
    },
    {
      "cell_type": "markdown",
      "metadata": {},
      "source": [
        "## Experiment 1: Cerebras Text Processing\n"
      ]
    },
    {
      "cell_type": "code",
      "execution_count": 8,
      "metadata": {},
      "outputs": [
        {
          "name": "stdout",
          "output_type": "stream",
          "text": [
            "🧠 Testing Cerebras with text input...\n",
            "\n",
            "✅ Cerebras Result:\n",
            "Model: llama3.1-8b\n",
            "Template: v1\n",
            "Validation: {'valid': True, 'errors': []}\n",
            "Usage: {'prompt_tokens': 216, 'completion_tokens': 512, 'total_tokens': 728, 'prompt_tokens_details': {'cached_tokens': 0}}\n",
            "Answer: {\n",
            "  \"answer\": \"Photons are being absorbed by plant cells. The energy is used to convert carbon dioxide and water into glucose and oxygen. Chlorophyll is the green pigment found on leaves and is important in this process as it absorbs light and transfers it to the plant's cells.\",\n",
            "  \"confidence\": 0.9,\n",
            "  \"reasoning\": \"Photosynthesis is the process by which green plants convert sunlight into chemical energy. Chlorophyll is the green pigment found on leaves and is important in this process as it absorbs light and transfers it to the plant's cells.\"\n",
            "}\n"
          ]
        }
      ],
      "source": [
        "# Cerebras configuration\n",
        "cerebras_config = PipelineConfig(\n",
        "    default_model=\"llama3.1-8b\",\n",
        "    default_executor=ExecutorType.CEREBRAS,\n",
        "    template_namespace=\"templates\",\n",
        "    timeout_seconds=30,\n",
        "    max_output_tokens=512,\n",
        "    json_retry_attempts=2,\n",
        "    output_schema=output_schema\n",
        ")\n",
        "\n",
        "print(\"🧠 Testing Cerebras with text input...\")\n",
        "try:\n",
        "    cerebras_result = pipeline.run(text_input, cerebras_config)\n",
        "    \n",
        "    print(\"\\n✅ Cerebras Result:\")\n",
        "    print(f\"Model: {cerebras_result['model']}\")\n",
        "    print(f\"Template: {cerebras_result['template']['name']}\")\n",
        "    print(f\"Validation: {cerebras_result['validation']}\")\n",
        "    print(f\"Usage: {cerebras_result['usage']}\")\n",
        "    print(f\"Answer: {json.dumps(cerebras_result['answer'], indent=2)}\")\n",
        "    \n",
        "except Exception as e:\n",
        "    print(f\"❌ Cerebras test failed: {e}\")\n"
      ]
    },
    {
      "cell_type": "markdown",
      "metadata": {},
      "source": [
        "## Experiment 2: OpenAI Text Processing\n"
      ]
    },
    {
      "cell_type": "code",
      "execution_count": 9,
      "metadata": {},
      "outputs": [
        {
          "name": "stdout",
          "output_type": "stream",
          "text": [
            "🤖 Testing OpenAI with text input...\n",
            "\n",
            "✅ OpenAI Text Result:\n",
            "Model: gpt-4o-mini\n",
            "Template: v1\n",
            "Validation: {'valid': True, 'errors': []}\n",
            "Usage: {'prompt_tokens': 221, 'completion_tokens': 69, 'total_tokens': 290}\n",
            "Answer: {\n",
            "  \"answer\": \"Photosynthesis is the process by which green plants convert sunlight into chemical energy using chlorophyll. The essential molecule for this process is chlorophyll.\",\n",
            "  \"confidence\": 0.95,\n",
            "  \"reasoning\": \"The definition and the essential role of chlorophyll in photosynthesis are well-established concepts in biology.\"\n",
            "}\n"
          ]
        }
      ],
      "source": [
        "# OpenAI configuration for text\n",
        "openai_text_config = PipelineConfig(\n",
        "    default_model=\"gpt-4o-mini\",\n",
        "    default_executor=ExecutorType.OPENAI,\n",
        "    template_namespace=\"templates\",\n",
        "    timeout_seconds=30,\n",
        "    max_output_tokens=512,\n",
        "    json_retry_attempts=2,\n",
        "    output_schema=output_schema\n",
        ")\n",
        "\n",
        "print(\"🤖 Testing OpenAI with text input...\")\n",
        "try:\n",
        "    openai_text_result = pipeline.run(text_input, openai_text_config)\n",
        "    \n",
        "    print(\"\\n✅ OpenAI Text Result:\")\n",
        "    print(f\"Model: {openai_text_result['model']}\")\n",
        "    print(f\"Template: {openai_text_result['template']['name']}\")\n",
        "    print(f\"Validation: {openai_text_result['validation']}\")\n",
        "    print(f\"Usage: {openai_text_result['usage']}\")\n",
        "    print(f\"Answer: {json.dumps(openai_text_result['answer'], indent=2)}\")\n",
        "    \n",
        "except Exception as e:\n",
        "    print(f\"❌ OpenAI text test failed: {e}\")\n"
      ]
    },
    {
      "cell_type": "markdown",
      "metadata": {},
      "source": [
        "## Experiment 3: OpenAI Vision Processing\n"
      ]
    },
    {
      "cell_type": "code",
      "execution_count": 10,
      "metadata": {},
      "outputs": [
        {
          "name": "stdout",
          "output_type": "stream",
          "text": [
            "👁️ Testing OpenAI with image input...\n",
            "\n",
            "✅ OpenAI Vision Result:\n",
            "Model: gpt-4o-mini\n",
            "Template: v1\n",
            "Validation: {'valid': True, 'errors': []}\n",
            "Usage: {'prompt_tokens': 14386, 'completion_tokens': 61, 'total_tokens': 14447}\n",
            "Answer: {\n",
            "  \"answer\": \"Red apple with a visible cut showing its white interior and seeds, accompanied by green leaves.\",\n",
            "  \"confidence\": 0.9,\n",
            "  \"reasoning\": \"The description is based on the common appearance of apples and the specific colors and shapes typically associated with them.\"\n",
            "}\n"
          ]
        }
      ],
      "source": [
        "# OpenAI configuration for vision\n",
        "openai_vision_config = PipelineConfig(\n",
        "    default_model=\"gpt-4o-mini\",  # Vision-capable model\n",
        "    default_executor=ExecutorType.OPENAI,\n",
        "    template_namespace=\"templates\",\n",
        "    timeout_seconds=45,  # Longer timeout for vision\n",
        "    max_output_tokens=512,\n",
        "    json_retry_attempts=2,\n",
        "    output_schema=output_schema\n",
        ")\n",
        "\n",
        "print(\"👁️ Testing OpenAI with image input...\")\n",
        "try:\n",
        "    openai_vision_result = pipeline.run(image_input, openai_vision_config)\n",
        "    \n",
        "    print(\"\\n✅ OpenAI Vision Result:\")\n",
        "    print(f\"Model: {openai_vision_result['model']}\")\n",
        "    print(f\"Template: {openai_vision_result['template']['name']}\")\n",
        "    print(f\"Validation: {openai_vision_result['validation']}\")\n",
        "    print(f\"Usage: {openai_vision_result['usage']}\")\n",
        "    print(f\"Answer: {json.dumps(openai_vision_result['answer'], indent=2)}\")\n",
        "    \n",
        "except Exception as e:\n",
        "    print(f\"❌ OpenAI vision test failed: {e}\")\n"
      ]
    },
    {
      "cell_type": "markdown",
      "metadata": {},
      "source": [
        "## Experiment 4: Error Handling - Images with Cerebras\n"
      ]
    },
    {
      "cell_type": "code",
      "execution_count": 11,
      "metadata": {},
      "outputs": [
        {
          "name": "stdout",
          "output_type": "stream",
          "text": [
            "🚫 Testing Cerebras with image input (should fail gracefully)...\n",
            "✅ Expected error: The 'images' parameter is not supported for Cerebras API.\n"
          ]
        }
      ],
      "source": [
        "print(\"🚫 Testing Cerebras with image input (should fail gracefully)...\")\n",
        "try:\n",
        "    cerebras_image_result = pipeline.run(image_input, cerebras_config)\n",
        "    print(\"❓ Unexpected: Cerebras accepted images\")\n",
        "    print(f\"Result: {json.dumps(cerebras_image_result['answer'], indent=2)}\")\n",
        "    \n",
        "except ValueError as e:\n",
        "    print(f\"✅ Expected error: {e}\")\n",
        "except Exception as e:\n",
        "    print(f\"❌ Unexpected error type: {e}\")\n"
      ]
    }
  ],
  "metadata": {
    "kernelspec": {
      "display_name": ".venv",
      "language": "python",
      "name": "python3"
    },
    "language_info": {
      "codemirror_mode": {
        "name": "ipython",
        "version": 3
      },
      "file_extension": ".py",
      "mimetype": "text/x-python",
      "name": "python",
      "nbconvert_exporter": "python",
      "pygments_lexer": "ipython3",
      "version": "3.9.6"
    }
  },
  "nbformat": 4,
  "nbformat_minor": 2
}
